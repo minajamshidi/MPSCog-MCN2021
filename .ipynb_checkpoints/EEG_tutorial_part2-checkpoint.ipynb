{
 "cells": [
  {
   "cell_type": "markdown",
   "metadata": {},
   "source": [
    "# EEG/MEG signal preprocessing - Part 2\n",
    "\n",
    "#### Max Planck School of Cognition, Methods in Cognitive Neuroscience, June 2021\n",
    "\n",
    "\n",
    "##### Contact: Mina Jamshidi Idaji @ Neurology Dept., MPI CBS, Leipzig, Germany, jamshidi@cbs.mpg.de\n"
   ]
  },
  {
   "cell_type": "markdown",
   "metadata": {},
   "source": [
    "### Objectives\n",
    "\n",
    "There are a number of automatic pipelines for denoising EEG/MEG; however, in many cases you should inspect your data manually. Therefore, the objectives of this notebook are:\n",
    "* Getting to know the usual artifacts in EEG/MEG recordings.\n",
    "* Going through a typical manual pipeline for cleaning EEG/MEG data from usual artifacts.\n",
    "* There can be also side objectives for this tutorial: this is a good chance to deepen your Python skills. So, in case you have limited experience with Python, don't worry at all. I tried to explain coding details as well. If you are already familiar with Python, you can skip the \"Coding Detail\" sections."
   ]
  },
  {
   "cell_type": "markdown",
   "metadata": {},
   "source": [
    "### In the last tutorial:\n",
    "\n",
    "* you will explore the MNE Python object Raw, which includes the sensor-space M/EEG data\n",
    "* the following steps of pre-processing are covered in this tutorial: power-line noise cancellation, bad segments and channels\n",
    "\n",
    "### In this tutorial:\n",
    "* you will learn the ICA artifact rejection\n",
    "* finalizing the EEG pre-processing pipeline."
   ]
  },
  {
   "cell_type": "markdown",
   "metadata": {},
   "source": [
    "--------------"
   ]
  },
  {
   "cell_type": "markdown",
   "metadata": {},
   "source": [
    "### Packages and Data\n",
    "\n",
    "Check the session 1 tutorial for this."
   ]
  },
  {
   "cell_type": "markdown",
   "metadata": {},
   "source": [
    "--------------"
   ]
  },
  {
   "cell_type": "code",
   "execution_count": null,
   "metadata": {
    "scrolled": true
   },
   "outputs": [],
   "source": [
    "import mne  # MNE Python\n",
    "from os.path import join  # this function is used to build the directories \n",
    "import numpy as np  # numpy is a library for working with matrices\n",
    "import scipy.signal as sp  # scipy.signal implements the signal processing functions\n",
    "# import matplotlib\n",
    "# matplotlib.use('TKAgg')\n",
    "from matplotlib import pyplot as plt  # matplotlib is the most common used package to do plotting in Python\n",
    "from IPython.display import Video, Image\n",
    "import eeg_tutorial_help_functions as hf  # help functions for this tutorial\n",
    "\n",
    "# the backend of matplotlib for plotting interactive plots in jupyter notebook on jupyter hub of GWDG\n",
    "%matplotlib widget  \n"
   ]
  },
  {
   "cell_type": "markdown",
   "metadata": {},
   "source": [
    "--------------\n",
    "--------------"
   ]
  },
  {
   "cell_type": "markdown",
   "metadata": {},
   "source": [
    "The original data:"
   ]
  },
  {
   "cell_type": "code",
   "execution_count": null,
   "metadata": {},
   "outputs": [],
   "source": [
    "subject = 'sub-010088'"
   ]
  },
  {
   "cell_type": "code",
   "execution_count": null,
   "metadata": {
    "scrolled": true
   },
   "outputs": [],
   "source": [
    "vhdr_fname = join('./Data', subject, subject + '.vhdr')  # build the directory of the data\n",
    "# vhdr_fname = './Data/' + subject + '/' + subject + '.vhdr'  # this is an alternative to os.path.join\n",
    "\n",
    "raw_orig = mne.io.read_raw_brainvision(vhdr_fname, preload=True)  # load the data\n",
    "print(raw_orig)  # take a look at what we loaded"
   ]
  },
  {
   "cell_type": "markdown",
   "metadata": {},
   "source": [
    "## 2. Artifacts"
   ]
  },
  {
   "cell_type": "markdown",
   "metadata": {},
   "source": [
    "Read the data with the bad segments marked."
   ]
  },
  {
   "cell_type": "code",
   "execution_count": null,
   "metadata": {
    "scrolled": true
   },
   "outputs": [],
   "source": [
    "raw_annot_fname = join('./Data', subject, subject + '-annotation-raw.fif')\n",
    "raw = mne.io.read_raw_fif(raw_annot_fname)"
   ]
  },
  {
   "cell_type": "markdown",
   "metadata": {},
   "source": [
    "---"
   ]
  },
  {
   "cell_type": "markdown",
   "metadata": {},
   "source": [
    "### 2.3. Artifacts: Eye, muscle, and heart artifacts"
   ]
  },
  {
   "cell_type": "markdown",
   "metadata": {},
   "source": [
    "Now that we got rid of the power-line noise and bad segments, let's take another look at the PSD. "
   ]
  },
  {
   "cell_type": "code",
   "execution_count": null,
   "metadata": {},
   "outputs": [],
   "source": [
    "freq_res = 1  # frequency resolution\n",
    "nfft = (2 ** np.ceil(np.log2(raw.info['sfreq'] / freq_res))).astype(int)\n",
    "raw.plot_psd(fmin=0, fmax=45, n_fft=nfft, picks='all', reject_by_annotation=True)"
   ]
  },
  {
   "cell_type": "markdown",
   "metadata": {},
   "source": [
    "* The first abnormality that we can observe is in the low-frequency band: two channels (Fp1, Fp2) have very high power in low-frequency. This is a typical sign of eye moverment and eye blink. You can zoom into the low-frequency bands using the zoom option in the above interactive graph.\n",
    "\n",
    "* The second noise signs in the PSD are the channels with high-frequency power. You see some channels *flying* - instead of decaying, they are horizontal or going up. These channels are contaminated by muscle noise.\n",
    "\n",
    "We use Independent Component Analysis (ICA) for separating these artifacts and removing them. I find <a href='https://mne.tools/stable/auto_tutorials/preprocessing/plot_40_artifact_correction_ica.html#sphx-glr-auto-tutorials-preprocessing-plot-40-artifact-correction-ica-py'>this MNE tutorial</a> useful."
   ]
  },
  {
   "cell_type": "code",
   "execution_count": null,
   "metadata": {},
   "outputs": [],
   "source": [
    "from mne.preprocessing import ICA"
   ]
  },
  {
   "cell_type": "markdown",
   "metadata": {},
   "source": [
    "There are different methods of ICA. The two mostly used ones are infomax and fastICA. As its name suggests, fastICA is much faster. However, the EEG community using EEGLAB in MATLAB are used to infomax-extended. I would say for the purpose we have, their results are comparable."
   ]
  },
  {
   "cell_type": "code",
   "execution_count": null,
   "metadata": {},
   "outputs": [],
   "source": [
    "n_components = 32  # number of ICA compoentns \n",
    "method = 'infomax' # can be 'fastica' as well\n",
    "random_state = 3459  # this is just to produce exactly the same result each time this tutorial is run\n",
    "fit_params = dict(extended=True)  # here it is for infomax-extended method\n",
    "ica = ICA(n_components=n_components, method=method, random_state=random_state, fit_params=fit_params)  # build an object of ICA class"
   ]
  },
  {
   "cell_type": "markdown",
   "metadata": {},
   "source": [
    "Now you can compute the ICA components for the raw object. This is done using the `fit` method of ICA class:\n",
    "\n",
    "WARNING: Infomax takes some time. fastICA ist faster, as its name says ;-)"
   ]
  },
  {
   "cell_type": "code",
   "execution_count": null,
   "metadata": {},
   "outputs": [],
   "source": [
    "picks = mne.pick_types(raw.info, eeg=True, meg=False, exclude='bads')\n",
    "ica.fit(raw, picks=picks, reject_by_annotation=True)  # compute ICA components for raw"
   ]
  },
  {
   "cell_type": "markdown",
   "metadata": {},
   "source": [
    "I've run ICA already and saved it:"
   ]
  },
  {
   "cell_type": "code",
   "execution_count": null,
   "metadata": {},
   "outputs": [],
   "source": [
    "raw_ica_fname = join('./Data', subject, subject + '-' + str(n_components) + '-' + method +'-ica.fif')\n",
    "# ica.save(raw_ica_fname)\n",
    "ica = mne.preprocessing.read_ica(raw_ica_fname)"
   ]
  },
  {
   "cell_type": "markdown",
   "metadata": {},
   "source": [
    "ICA decomposes data $\\mathbf{X}$ as $\\mathbf{X} = \\mathbf{A} \\mathbf{S}$. We can get the sources $\\mathbf{S}$ and their mixing matrix $\\mathbf{A}$ with methods `get_sources()` and `get_components()` respectively."
   ]
  },
  {
   "cell_type": "code",
   "execution_count": null,
   "metadata": {},
   "outputs": [],
   "source": [
    "src = ica.get_sources(raw)\n",
    "src = src.get_data()\n",
    "mixing_mat = ica.get_components()\n",
    "print(src.shape)\n",
    "print(mixing_mat.shape)"
   ]
  },
  {
   "cell_type": "markdown",
   "metadata": {},
   "source": [
    "You can see that 32 ICA components are extracted, this is equal to the parameter `n_components` that we determined before. "
   ]
  },
  {
   "cell_type": "markdown",
   "metadata": {},
   "source": [
    "We can plot the topographies of the components (i.e. the columns of the mixing matrix) uisng `plot_components`."
   ]
  },
  {
   "cell_type": "code",
   "execution_count": null,
   "metadata": {},
   "outputs": [],
   "source": [
    "%matplotlib inline\n",
    "ica.plot_components(inst=raw)"
   ]
  },
  {
   "cell_type": "markdown",
   "metadata": {},
   "source": [
    "To get an imagination of the channels, look at this figure, which shows the 10-20 system:"
   ]
  },
  {
   "cell_type": "code",
   "execution_count": null,
   "metadata": {},
   "outputs": [],
   "source": [
    "Image('10-20-EEG.png', width=500)\n",
    "# Ref: https://commons.wikimedia.org/wiki/File:International_10-20_system_for_EEG-MCN.svg"
   ]
  },
  {
   "cell_type": "markdown",
   "metadata": {},
   "source": [
    "... and the time series of the components uisng `plot_sources`. By clicking on the times series of a source, you can mark it as a bad compoenent (Component will change to red color). By clicking on the name of a component, its topography will be plotted (Unfortunately, this is not possible in Jupyterhub).\n",
    "\n",
    "For adding a new component to the list of bad components: \n",
    "* You can use the interactive window of `ica.plot_sources` by clicking on the time-series of the bad component (their color becomes red) and then pressing esc. Afterwards, when you look at `ica.exclude` by `print(ica.exclude)`, you see that those component numbers are saved as a list in this attribute.\n",
    "    * **Note**: On jupyter hub with `%matplotlib notebook` after selecting the bad components on the interactive window, instead of pressing esc you should run the code cell including `ica.plot_sources(inst=raw)` again.\n",
    "    \n",
    "* You can modified `ica.exclude` manually without the interactive window. In order to add a component with index `n` to the exclude list:\n",
    "    \n",
    "        ica.exclude += [n]\n",
    "    \n",
    "    If you want to add multiple components:\n",
    "    \n",
    "        ica.exclude += [n, m, p, q]\n",
    "\n",
    "    If you wanna delete the i-th entry of the exclude list:\n",
    "    \n",
    "        del ica.exclude[i]\n"
   ]
  },
  {
   "cell_type": "markdown",
   "metadata": {},
   "source": [
    "When you plotted the source signals, continue with the tutorial and you will see which components should be marked as bad ones, and why."
   ]
  },
  {
   "cell_type": "code",
   "execution_count": null,
   "metadata": {},
   "outputs": [],
   "source": [
    "%matplotlib widget\n",
    "ica.plot_sources(inst=raw)"
   ]
  },
  {
   "cell_type": "markdown",
   "metadata": {},
   "source": [
    "We use the topographies, the time series and their PSD to decide if a component should be rejected."
   ]
  },
  {
   "cell_type": "markdown",
   "metadata": {},
   "source": [
    "**EXERCISE 5**: Take a look at <a href='https://labeling.ucsd.edu/tutorial/labels'>this EEGLab tutorial</a>. \n",
    "\n",
    "Optional: Paper [4] is also a very good reference."
   ]
  },
  {
   "cell_type": "markdown",
   "metadata": {},
   "source": [
    "From the topography, we can see that component 1 is eye blink and component 4 is eye movement artifact. Look at the PSDs:"
   ]
  },
  {
   "cell_type": "code",
   "execution_count": null,
   "metadata": {},
   "outputs": [],
   "source": [
    "ax = hf.plot_psd(src[[1, 4], :], fs=raw.info['sfreq'], f_max=45)\n",
    "plt.title('PSD of the two eye artifact componentns. Compnents 1 and 4')\n",
    "# plt.plot(raw._times, src[[1, 4], :])"
   ]
  },
  {
   "cell_type": "markdown",
   "metadata": {},
   "source": [
    "You can see that both of them have high power in low frequency band. So, either click on the time series of component #1 in the window of `ica.plot_components` or run the code below:"
   ]
  },
  {
   "cell_type": "code",
   "execution_count": null,
   "metadata": {},
   "outputs": [],
   "source": [
    "ica.exclude += [1, 4]\n",
    "print(ica.exclude)"
   ]
  },
  {
   "cell_type": "markdown",
   "metadata": {},
   "source": [
    "Component 3 is interesting to look at. Its time seris shows us that nice occipital alpha source ([8-12]Hz) with beta harmonics (~20Hz). Look at the PSD:"
   ]
  },
  {
   "cell_type": "code",
   "execution_count": null,
   "metadata": {
    "scrolled": true
   },
   "outputs": [],
   "source": [
    "ax = hf.plot_psd(src[3:4, :], fs=raw.info['sfreq'], f_max=45)\n",
    "plt.title('PSD of the component 3')"
   ]
  },
  {
   "cell_type": "markdown",
   "metadata": {},
   "source": [
    "Its PSD looks like a typical beautiful PSD, with alpha and beta peak."
   ]
  },
  {
   "cell_type": "markdown",
   "metadata": {},
   "source": [
    "The time-series of component 9 shows a clear presence of heart beat. Do you see the R peaks of ECG? I would say the heart rate of this subject was around 70/min ;-) Its topography also represents the typical heart artifact topography with a linear scalp map gradient. So, either click on the time series of component #9 in the window of `ica.plot_components` or run the code below:\n"
   ]
  },
  {
   "cell_type": "code",
   "execution_count": null,
   "metadata": {},
   "outputs": [],
   "source": [
    "ica.exclude += [9]\n",
    "print(ica.exclude)"
   ]
  },
  {
   "cell_type": "markdown",
   "metadata": {},
   "source": [
    "**EXERCISE 6**: Determine another good alpha source. Plot the PSD. \n",
    "\n",
    "**YOUR ANSWER:** (type it in the cell below)"
   ]
  },
  {
   "cell_type": "code",
   "execution_count": null,
   "metadata": {},
   "outputs": [],
   "source": [
    "# TO BE COMPLETED BY THE STUDENT -------------------------\n",
    "# ANSWER TO EXERCISE 6\n",
    "# ?\n",
    "# ----------------------------------------------------------"
   ]
  },
  {
   "cell_type": "markdown",
   "metadata": {},
   "source": [
    "The time-series and topographies of components 7 and 17-20 look like muscle activity. Let's look at the PSDs:"
   ]
  },
  {
   "cell_type": "code",
   "execution_count": null,
   "metadata": {},
   "outputs": [],
   "source": [
    "cmp_rej = np.append(np.arange(17,21), 7)\n",
    "ax = hf.plot_psd(src[cmp_rej, :], fs=raw.info['sfreq'], f_max=45)\n",
    "plt.title('PSD of some muscle artifact componentns. Compnents 7 and 17-20')"
   ]
  },
  {
   "cell_type": "markdown",
   "metadata": {},
   "source": [
    "You can see that all of them have high power in high-frequency and low power in low frequency bands. I always look at those PSD lines as if they are flying! Btw, if you look at the time-series of these components, you see that all of them have very low amplitudes and then suddenly they become noisy at around 137.5 (s). Now using 'raw.plot()' plot the raw data and go to around this time point:"
   ]
  },
  {
   "cell_type": "code",
   "execution_count": null,
   "metadata": {},
   "outputs": [],
   "source": [
    "raw.plot()"
   ]
  },
  {
   "cell_type": "markdown",
   "metadata": {},
   "source": [
    "You see that some channels become noisy exactly around this time. "
   ]
  },
  {
   "cell_type": "markdown",
   "metadata": {},
   "source": [
    "**EXERCISE 7:** Which channels become noisy around 137.5 (s)? Could you find a relationship between these channels and the topography of ICA components 7 and 17-20? Use the figure of 10-20 system to locate the channels on the head and compare it with the ICA component topographies."
   ]
  },
  {
   "cell_type": "markdown",
   "metadata": {},
   "source": [
    "**YOUR ANSWER:** (type your answer here) ?"
   ]
  },
  {
   "cell_type": "markdown",
   "metadata": {},
   "source": [
    "So, either click on the time series of component #7 and #17-#20 in the window of `ica.plot_components` or run the code below:"
   ]
  },
  {
   "cell_type": "code",
   "execution_count": null,
   "metadata": {},
   "outputs": [],
   "source": [
    "ica.exclude += [7]\n",
    "ica.exclude += list(np.arange(17, 21))\n",
    "print(ica.exclude)"
   ]
  },
  {
   "cell_type": "markdown",
   "metadata": {},
   "source": [
    "If you also look at component 22, the time seris looks very noisy. But the topography is not focal. That tells us that the source is a mixture of noise and brain signals. Look at the PSD:"
   ]
  },
  {
   "cell_type": "code",
   "execution_count": null,
   "metadata": {},
   "outputs": [],
   "source": [
    "ax = hf.plot_psd(src[22:23, :], fs=raw.info['sfreq'], f_max=45)\n",
    "plt.title('PSD of compnent 22')"
   ]
  },
  {
   "cell_type": "markdown",
   "metadata": {},
   "source": [
    "It has a peak at alpha band. I would for now keep that component. "
   ]
  },
  {
   "cell_type": "markdown",
   "metadata": {},
   "source": [
    "For now, let's look at the PSD of our multichannel signal when we remove these components that we selected. n many cases we have to go back and select more bad components.   \n"
   ]
  },
  {
   "cell_type": "code",
   "execution_count": null,
   "metadata": {},
   "outputs": [],
   "source": [
    "print(ica.exclude)"
   ]
  },
  {
   "cell_type": "code",
   "execution_count": null,
   "metadata": {},
   "outputs": [],
   "source": [
    "raw.load_data()\n",
    "raw_ica_1 = raw.copy()  # make a new version of raw that ica bad component rejection will be applied on it\n",
    "ica.apply(raw_ica_1)  # apply the ICA bad component rejection on raw\n",
    "\n",
    "# plot the PSD of cleaned data\n",
    "freq_res = 1\n",
    "nfft = (2 ** np.ceil(np.log2(raw_ica_1.info['sfreq'] / freq_res))).astype(int)\n",
    "raw_ica_1.plot_psd(fmin=0, fmax=45, n_fft=nfft, picks='all')"
   ]
  },
  {
   "cell_type": "markdown",
   "metadata": {},
   "source": [
    "Note that you have to copy the raw object into a new object so that you don't loose it when applying ica to it."
   ]
  },
  {
   "cell_type": "markdown",
   "metadata": {},
   "source": [
    "**EXERCISE 8:** You can see three channels which are flying! They are noisy with muscle artifact. Using the interactive window of `plot_psd`, determine these three channels. Look at the figure of 10-20 EEG system. Where are they located? Can you determine the ICA component corresponding to this noise source? Plot its PSD and add it to the bad ICA components list."
   ]
  },
  {
   "cell_type": "markdown",
   "metadata": {},
   "source": [
    "**YOUR ANSWER**: (type your answer here and use the cell below for your codes) ?"
   ]
  },
  {
   "cell_type": "code",
   "execution_count": null,
   "metadata": {},
   "outputs": [],
   "source": [
    "# TO BE COMPLETED BY THE STUDENT -------------------------\n",
    "# ANSWER TO EXERCISE 8\n",
    "# ?\n",
    "# ----------------------------------------------------------"
   ]
  },
  {
   "cell_type": "markdown",
   "metadata": {},
   "source": [
    "**Assuming that you marked the new bad component - if not: copy the answer from the solution notebook**, we reject the bad ICA components again:"
   ]
  },
  {
   "cell_type": "code",
   "execution_count": null,
   "metadata": {},
   "outputs": [],
   "source": [
    "raw.load_data()\n",
    "raw_ica_2 = raw.copy()\n",
    "ica.apply(raw_ica_2)\n",
    "freq_res = 1\n",
    "nfft = (2 ** np.ceil(np.log2(raw_ica_2.info['sfreq'] / freq_res))).astype(int)\n",
    "raw_ica_2.plot_psd(fmin=0, fmax=45, n_fft=nfft, picks='all')"
   ]
  },
  {
   "cell_type": "markdown",
   "metadata": {},
   "source": [
    "You can see that those three channels are now behaving normal!"
   ]
  },
  {
   "cell_type": "markdown",
   "metadata": {},
   "source": [
    "As an example, let's compare the PSD of channel PO8 before and after removing the last ICA component."
   ]
  },
  {
   "cell_type": "code",
   "execution_count": null,
   "metadata": {
    "scrolled": true
   },
   "outputs": [],
   "source": [
    "ind_PO8 = raw.info['ch_names'].index('PO8')\n",
    "data_1 = raw_ica_1.get_data()[ind_PO8, :][np.newaxis, :]\n",
    "data_2 = raw_ica_2.get_data()[ind_PO8, :][np.newaxis, :]\n",
    "data_plot = np.append(data_1, data_2, axis=0)\n",
    "ax = hf.plot_psd(data_plot, raw.info['sfreq'], f_max=45)\n",
    "ax.legend(['before', 'after'])"
   ]
  },
  {
   "cell_type": "markdown",
   "metadata": {},
   "source": [
    "You can see how well the muscle noise has been removed. You can also clearly see that we have lost some of our alpha power."
   ]
  },
  {
   "cell_type": "markdown",
   "metadata": {},
   "source": [
    "Now it is the time to scroll over the time-series of the cleaned data: "
   ]
  },
  {
   "cell_type": "code",
   "execution_count": null,
   "metadata": {},
   "outputs": [],
   "source": [
    "# %matplotlib tk\n",
    "raw_ica_2.plot()"
   ]
  },
  {
   "cell_type": "markdown",
   "metadata": {},
   "source": [
    "**EXERCISE 9:** write some differences between the PSDs and time-series of before and after ICA artifact rejection. You may use `raw.plot()` and `raw.plot_psd()`."
   ]
  },
  {
   "cell_type": "markdown",
   "metadata": {},
   "source": [
    "**YOUR ANSWER**: (type your answer here and use the cell below for your codes)?"
   ]
  },
  {
   "cell_type": "code",
   "execution_count": null,
   "metadata": {},
   "outputs": [],
   "source": [
    "# TO BE COMPLETED BY THE STUDENT -------------------------\n",
    "# ANSWER TO EXERCISE 9 \n",
    "# ?\n",
    "# ----------------------------------------------------------"
   ]
  },
  {
   "cell_type": "markdown",
   "metadata": {},
   "source": [
    "The bad segments that we marked before are still noisy. The reason is that they are excluded in ICA step. We also usually exclude these bad segments for the rest of the analysis.  "
   ]
  },
  {
   "cell_type": "code",
   "execution_count": null,
   "metadata": {},
   "outputs": [],
   "source": [
    "data_clean = raw_ica_2.get_data(reject_by_annotation='omit')\n",
    "raw_clean = mne.io.RawArray(data_clean, raw_ica_2.info)"
   ]
  },
  {
   "cell_type": "markdown",
   "metadata": {},
   "source": [
    "### References\n",
    "\n",
    "[1] https://mne.tools/stable/index.html\n",
    "\n",
    "[2] Babayan, A. et al. (2019) A mind-brain-body dataset of MRI, EEG, cognition, emotion, and peripheral physiology in young and old adults. Sci. Data. 6:180308 https://doi.org/10.1038/sdata.2018.308.\n",
    "\n",
    "[3] https://mne.tools/stable/auto_tutorials/io/plot_20_reading_eeg_data.html#brainvision-vhdr-vmrk-eeg\n",
    "\n",
    "[4] Maximilien Chaumon, Dorothy V.M. Bishop, Niko A. Busch (2015) A practical guide to the selection of independent components of the electroencephalogram for artifact correction, Journal of Neuroscience Methods, Volume 250, pp 47-63, https://doi.org/10.1016/j.jneumeth.2015.02.025."
   ]
  }
 ],
 "metadata": {
  "kernelspec": {
   "display_name": "Python 3",
   "language": "python",
   "name": "python3"
  },
  "language_info": {
   "codemirror_mode": {
    "name": "ipython",
    "version": 3
   },
   "file_extension": ".py",
   "mimetype": "text/x-python",
   "name": "python",
   "nbconvert_exporter": "python",
   "pygments_lexer": "ipython3",
   "version": "3.6.9"
  }
 },
 "nbformat": 4,
 "nbformat_minor": 2
}
